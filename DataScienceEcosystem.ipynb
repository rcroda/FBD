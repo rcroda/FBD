{
 "cells": [
  {
   "cell_type": "markdown",
   "id": "7efc4919-19d7-4c66-ae9a-85cdea9059ef",
   "metadata": {},
   "source": [
    "# Data Science Tools and Ecosystem"
   ]
  },
  {
   "cell_type": "markdown",
   "id": "e0590d27-d5f2-4cb4-9e91-8541b5b9d4d6",
   "metadata": {},
   "source": [
    "## Autor:\n",
    "Rosa María Cantón Croda"
   ]
  },
  {
   "cell_type": "markdown",
   "id": "e7fe4f3a-e018-42ea-8052-b4cee4cd9112",
   "metadata": {},
   "source": [
    "In this notebook, Data Science Tools and Ecosystem are summarized."
   ]
  },
  {
   "cell_type": "markdown",
   "id": "80c155d7-fe73-4517-9962-96b05da1f6de",
   "metadata": {},
   "source": [
    "**Objectives:**\n",
    "* List popular languages for Data Science.\n",
    "* List commonly used libraries used by Data Scientists.\n",
    "* Data Science Tools.\n",
    "* Examples of evaluating arithmetic expressions in Python."
   ]
  },
  {
   "cell_type": "markdown",
   "id": "3cee79d3-fadd-458a-b7a7-613cb787204b",
   "metadata": {},
   "source": [
    "Some of the popular languages that Data Scientists use are:\n",
    "1. Python\n",
    "2. RStudio\n",
    "3. SQL"
   ]
  },
  {
   "cell_type": "markdown",
   "id": "0879dea4-f884-444b-972d-2a935df37ef4",
   "metadata": {},
   "source": [
    "Some of the commonly used libraries used by Data Scientists include:\n",
    "* NumPy\n",
    "* Matplotlib\n",
    "* Scikit-Learn\n",
    "* Spark\n",
    "* ggplot2"
   ]
  },
  {
   "cell_type": "markdown",
   "id": "56bdb67b-6eba-475d-bb96-24ea000220b1",
   "metadata": {},
   "source": [
    "| Data Science Tools |\r\n",
    "| --- |\r\n",
    "Python 3\n",
    "| Apache Spark |\n",
    "| Weka | |"
   ]
  },
  {
   "cell_type": "markdown",
   "id": "8748a5f1-b82d-4bd5-a26d-ad68d26a890a",
   "metadata": {},
   "source": [
    "### Below are a few examples of evaluating arithmetic expressions in Python"
   ]
  },
  {
   "cell_type": "markdown",
   "id": "a3ccc04a-8769-48b6-a1d3-092ac3dfba21",
   "metadata": {},
   "source": [
    "This a simple arithmetic expression to mutiply then add integers"
   ]
  },
  {
   "cell_type": "code",
   "execution_count": 13,
   "id": "d62ba199-7b01-4452-9aa0-b12d2f807e85",
   "metadata": {},
   "outputs": [
    {
     "data": {
      "text/plain": [
       "17"
      ]
     },
     "execution_count": 13,
     "metadata": {},
     "output_type": "execute_result"
    }
   ],
   "source": [
    "(3*4)+5"
   ]
  },
  {
   "cell_type": "markdown",
   "id": "33213d0b-96f8-4dc8-882c-c22c6bd6cdea",
   "metadata": {},
   "source": [
    "This will convert 200 minutes to hours by diving by 60"
   ]
  },
  {
   "cell_type": "code",
   "execution_count": 16,
   "id": "e37cbefc-51a8-4abc-ada5-6c4c83e052ca",
   "metadata": {},
   "outputs": [
    {
     "data": {
      "text/plain": [
       "3.3333333333333335"
      ]
     },
     "execution_count": 16,
     "metadata": {},
     "output_type": "execute_result"
    }
   ],
   "source": [
    "200/60"
   ]
  },
  {
   "cell_type": "code",
   "execution_count": null,
   "id": "39567f16-3edd-4d8e-9ee3-8a1d9501d589",
   "metadata": {},
   "outputs": [],
   "source": []
  }
 ],
 "metadata": {
  "kernelspec": {
   "display_name": "Python 3 (ipykernel)",
   "language": "python",
   "name": "python3"
  },
  "language_info": {
   "codemirror_mode": {
    "name": "ipython",
    "version": 3
   },
   "file_extension": ".py",
   "mimetype": "text/x-python",
   "name": "python",
   "nbconvert_exporter": "python",
   "pygments_lexer": "ipython3",
   "version": "3.12.4"
  }
 },
 "nbformat": 4,
 "nbformat_minor": 5
}
